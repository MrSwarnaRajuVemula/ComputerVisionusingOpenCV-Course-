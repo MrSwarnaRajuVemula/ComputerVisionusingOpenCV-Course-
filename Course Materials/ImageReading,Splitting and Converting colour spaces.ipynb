{
 "cells": [
  {
   "cell_type": "code",
   "execution_count": null,
   "id": "e8e19ac8-dd27-4a81-a994-91f8fdb32ad6",
   "metadata": {},
   "outputs": [],
   "source": [
    "import os\n",
    "import cv2\n",
    "import numpy as np\n",
    "import matplotlib.pyplot as plt\n",
    "\n",
    "from zipfile import ZipFile\n",
    "from urllib.request import urlretrieve"
   ]
  },
  {
   "cell_type": "code",
   "execution_count": null,
   "id": "16283af9-0fd8-437f-9542-7c8b29726b40",
   "metadata": {},
   "outputs": [],
   "source": [
    "def download_and_unzip(url, save_path):\n",
    "    print(f\"Downloading and extracting assests....\", end=\"\")\n",
    "\n",
    "    # Downloading zip file using urllib package.\n",
    "    urlretrieve(url, save_path)\n",
    "\n",
    "    try:\n",
    "        # Extracting zip file using the zipfile package.\n",
    "        with ZipFile(save_path) as z:\n",
    "            # Extract ZIP file contents in the same directory.\n",
    "            z.extractall(os.path.split(save_path)[0])\n",
    "\n",
    "        print(\"Done\")\n",
    "\n",
    "    except Exception as e:\n",
    "        print(\"\\nInvalid file.\", e)"
   ]
  },
  {
   "cell_type": "code",
   "execution_count": null,
   "id": "d8463b10-2b31-4ed6-bcdc-7c8ca4738c4a",
   "metadata": {},
   "outputs": [],
   "source": [
    "URL = r\"https://www.dropbox.com/s/qhhlqcica1nvtaw/opencv_bootcamp_assets_NB1.zip?dl=1\"\n",
    "\n",
    "asset_zip_path = os.path.join(os.getcwd(), f\"opencv_bootcamp_assets_NB1.zip\")\n",
    "\n",
    "# Download if assest ZIP does not exists. \n",
    "if not os.path.exists(asset_zip_path):\n",
    "    download_and_unzip(URL, asset_zip_path)  "
   ]
  },
  {
   "cell_type": "code",
   "execution_count": null,
   "id": "28d35ba3-289c-4f20-88a9-38360b1451eb",
   "metadata": {},
   "outputs": [],
   "source": [
    "# Display 18x18 pixel image.\n",
    "Image(filename=\"checkerboard_18x18.png\")"
   ]
  },
  {
   "cell_type": "code",
   "execution_count": null,
   "id": "f724190e-d570-4cbe-a048-9fa62caa1ebc",
   "metadata": {},
   "outputs": [],
   "source": [
    "# Display 84x84 pixel image.\n",
    "Image(filename=\"checkerboard_84x84.jpg\")"
   ]
  },
  {
   "cell_type": "code",
   "execution_count": null,
   "id": "ad810bf9-4b6e-4dc5-aa5d-4d3ffa205e18",
   "metadata": {},
   "outputs": [],
   "source": [
    "# Read image as gray scale.\n",
    "cb_img = cv2.imread(\"checkerboard_18x18.png\", 0)\n",
    "\n",
    "# Print the image data (pixel values), element of a 2D numpy array.\n",
    "# Each pixel value is 8-bits [0,255]\n",
    "print(cb_img)"
   ]
  },
  {
   "cell_type": "code",
   "execution_count": null,
   "id": "a5255666-f9cc-44f7-84d0-b73390808765",
   "metadata": {},
   "outputs": [],
   "source": [
    "# print the size  of image\n",
    "print(\"Image size (H, W) is:\", cb_img.shape)\n",
    "\n",
    "# print data-type of image\n",
    "print(\"Data type of image is:\", cb_img.dtype)"
   ]
  },
  {
   "cell_type": "code",
   "execution_count": null,
   "id": "5952673b-926c-45b7-8083-0c7b6a229f47",
   "metadata": {},
   "outputs": [],
   "source": [
    "# Display image.\n",
    "plt.imshow(cb_img)"
   ]
  },
  {
   "cell_type": "code",
   "execution_count": null,
   "id": "d36a6037-dc43-431a-b7bc-f7328fa4fdbe",
   "metadata": {},
   "outputs": [],
   "source": [
    "# Set color map to gray scale for proper rendering.\n",
    "plt.imshow(cb_img, cmap=\"gray\")"
   ]
  },
  {
   "cell_type": "code",
   "execution_count": null,
   "id": "efc11f3d-f06d-4c09-bfbb-9b04e4d4f395",
   "metadata": {},
   "outputs": [],
   "source": [
    "# Read image as gray scale.\n",
    "cb_img_fuzzy = cv2.imread(\"checkerboard_fuzzy_18x18.jpg\", 0)\n",
    "\n",
    "# print image\n",
    "print(cb_img_fuzzy)\n",
    "\n",
    "# Display image.\n",
    "plt.imshow(cb_img_fuzzy, cmap=\"gray\")"
   ]
  },
  {
   "cell_type": "code",
   "execution_count": null,
   "id": "1e8617c6-ed2d-4a4f-bdb3-d36d26017502",
   "metadata": {},
   "outputs": [],
   "source": [
    "# Read and display Coca-Cola logo.\n",
    "Image(\"coca-cola-logo.png\")"
   ]
  },
  {
   "cell_type": "code",
   "execution_count": null,
   "id": "ea3f03bd-ddad-4e44-8f67-76f9afcf2b23",
   "metadata": {},
   "outputs": [],
   "source": [
    "# Read in image\n",
    "coke_img = cv2.imread(\"coca-cola-logo.png\", 1)\n",
    "\n",
    "# print the size  of image\n",
    "print(\"Image size (H, W, C) is:\", coke_img.shape)\n",
    "\n",
    "# print data-type of image\n",
    "print(\"Data type of image is:\", coke_img.dtype)"
   ]
  },
  {
   "cell_type": "code",
   "execution_count": null,
   "id": "083787f7-4dbc-442a-92df-d35acdca2fcd",
   "metadata": {},
   "outputs": [],
   "source": [
    "plt.imshow(coke_img)\n",
    "#  What happened?"
   ]
  },
  {
   "cell_type": "code",
   "execution_count": null,
   "id": "a51b8e43-648f-420a-a476-baccb15adf94",
   "metadata": {},
   "outputs": [],
   "source": [
    "coke_img_channels_reversed = coke_img[:, :, ::-1]\n",
    "plt.imshow(coke_img_channels_reversed)"
   ]
  },
  {
   "cell_type": "code",
   "execution_count": null,
   "id": "4462aa9a-76b7-4d2d-ab5b-a734590c0a90",
   "metadata": {},
   "outputs": [],
   "source": [
    "# Split the image into the B,G,R components\n",
    "img_NZ_bgr = cv2.imread(\"New_Zealand_Lake.jpg\", cv2.IMREAD_COLOR)\n",
    "b, g, r = cv2.split(img_NZ_bgr)\n",
    "\n",
    "# Show the channels\n",
    "plt.figure(figsize=[20, 5])\n",
    "\n",
    "plt.subplot(141);plt.imshow(r, cmap=\"gray\");plt.title(\"Red Channel\")\n",
    "plt.subplot(142);plt.imshow(g, cmap=\"gray\");plt.title(\"Green Channel\")\n",
    "plt.subplot(143);plt.imshow(b, cmap=\"gray\");plt.title(\"Blue Channel\")\n",
    "\n",
    "# Merge the individual channels into a BGR image\n",
    "imgMerged = cv2.merge((b, g, r))\n",
    "# Show the merged output\n",
    "plt.subplot(144)\n",
    "plt.imshow(imgMerged[:, :, ::-1])\n",
    "plt.title(\"Merged Output\")"
   ]
  },
  {
   "cell_type": "code",
   "execution_count": null,
   "id": "a9fdab6f-b547-442d-942e-b888236d4297",
   "metadata": {},
   "outputs": [],
   "source": [
    "# OpenCV stores color channels in a differnet order than most other applications (BGR vs RGB).\n",
    "img_NZ_rgb = cv2.cvtColor(img_NZ_bgr, cv2.COLOR_BGR2RGB)\n",
    "plt.imshow(img_NZ_rgb)"
   ]
  },
  {
   "cell_type": "code",
   "execution_count": null,
   "id": "7cf84866-be94-4e29-9090-fb5b7ebabd53",
   "metadata": {},
   "outputs": [],
   "source": [
    "img_hsv = cv2.cvtColor(img_NZ_bgr, cv2.COLOR_BGR2HSV)\n",
    "\n",
    "# Split the image into the B,G,R components\n",
    "h,s,v = cv2.split(img_hsv)\n",
    "\n",
    "# Show the channels\n",
    "plt.figure(figsize=[20,5])\n",
    "plt.subplot(141);plt.imshow(h, cmap=\"gray\");plt.title(\"H Channel\");\n",
    "plt.subplot(142);plt.imshow(s, cmap=\"gray\");plt.title(\"S Channel\");\n",
    "plt.subplot(143);plt.imshow(v, cmap=\"gray\");plt.title(\"V Channel\");\n",
    "plt.subplot(144);plt.imshow(img_NZ_rgb);   plt.title(\"Original\");"
   ]
  },
  {
   "cell_type": "code",
   "execution_count": null,
   "id": "3b6a2f56-ab37-4893-8a13-bba76c8352e2",
   "metadata": {},
   "outputs": [],
   "source": [
    "h_new = h + 10\n",
    "img_NZ_merged = cv2.merge((h_new, s, v))\n",
    "img_NZ_rgb = cv2.cvtColor(img_NZ_merged, cv2.COLOR_HSV2RGB)\n",
    "\n",
    "# Show the channels\n",
    "plt.figure(figsize=[20,5])\n",
    "plt.subplot(141);plt.imshow(h, cmap=\"gray\");plt.title(\"H Channel\");\n",
    "plt.subplot(142);plt.imshow(s, cmap=\"gray\");plt.title(\"S Channel\");\n",
    "plt.subplot(143);plt.imshow(v, cmap=\"gray\");plt.title(\"V Channel\");\n",
    "plt.subplot(144);plt.imshow(img_NZ_rgb);   plt.title(\"Original\");"
   ]
  },
  {
   "cell_type": "code",
   "execution_count": null,
   "id": "96c862ae-f88f-4220-9c1b-523b5d476130",
   "metadata": {},
   "outputs": [],
   "source": [
    "# save the image\n",
    "cv2.imwrite(\"New_Zealand_Lake_SAVED.png\", img_NZ_bgr)\n",
    "\n",
    "Image(filename='New_Zealand_Lake_SAVED.png') "
   ]
  },
  {
   "cell_type": "code",
   "execution_count": null,
   "id": "9ef59fc5-e851-4c23-864b-0d9328f0c2ca",
   "metadata": {},
   "outputs": [],
   "source": [
    "# read the image as Color\n",
    "img_NZ_bgr = cv2.imread(\"New_Zealand_Lake_SAVED.png\", cv2.IMREAD_COLOR)\n",
    "print(\"img_NZ_bgr shape (H, W, C) is:\", img_NZ_bgr.shape)\n",
    "\n",
    "# read the image as Grayscaled\n",
    "img_NZ_gry = cv2.imread(\"New_Zealand_Lake_SAVED.png\", cv2.IMREAD_GRAYSCALE)\n",
    "print(\"img_NZ_gry shape (H, W) is:\", img_NZ_gry.shape)"
   ]
  }
 ],
 "metadata": {
  "kernelspec": {
   "display_name": "Python 3 (ipykernel)",
   "language": "python",
   "name": "python3"
  },
  "language_info": {
   "codemirror_mode": {
    "name": "ipython",
    "version": 3
   },
   "file_extension": ".py",
   "mimetype": "text/x-python",
   "name": "python",
   "nbconvert_exporter": "python",
   "pygments_lexer": "ipython3",
   "version": "3.12.4"
  }
 },
 "nbformat": 4,
 "nbformat_minor": 5
}
