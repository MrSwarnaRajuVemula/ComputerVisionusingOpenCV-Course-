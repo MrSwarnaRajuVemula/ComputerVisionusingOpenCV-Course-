{
 "cells": [
  {
   "cell_type": "code",
   "execution_count": null,
   "id": "e0ea7ddd-c680-4cf6-b0d3-c457c7911146",
   "metadata": {},
   "outputs": [],
   "source": [
    "import os\n",
    "import cv2\n",
    "import math\n",
    "import glob\n",
    "import numpy as np\n",
    "import matplotlib.pyplot as plt\n",
    "\n",
    "from zipfile import ZipFile\n",
    "from urllib.request import urlretrieve"
   ]
  },
  {
   "cell_type": "code",
   "execution_count": null,
   "id": "cb929e89-e8a4-479f-81bc-5ed9707d85e0",
   "metadata": {},
   "outputs": [],
   "source": [
    "def download_and_unzip(url, save_path):\n",
    "    print(f\"Downloading and extracting assests....\", end=\"\")\n",
    "\n",
    "    # Downloading zip file using urllib package.\n",
    "    urlretrieve(url, save_path)\n",
    "\n",
    "    try:\n",
    "        # Extracting zip file using the zipfile package.\n",
    "        with ZipFile(save_path) as z:\n",
    "            # Extract ZIP file contents in the same directory.\n",
    "            z.extractall(os.path.split(save_path)[0])\n",
    "\n",
    "        print(\"Done\")\n",
    "\n",
    "    except Exception as e:\n",
    "        print(\"\\nInvalid file.\", e)"
   ]
  },
  {
   "cell_type": "code",
   "execution_count": null,
   "id": "8ecd8e0f-2fdc-4645-ab2d-ccdb08d349c3",
   "metadata": {},
   "outputs": [],
   "source": [
    "URL = r\"https://www.dropbox.com/s/0o5yqql1ynx31bi/opencv_bootcamp_assets_NB9.zip?dl=1\"\n",
    "\n",
    "asset_zip_path = os.path.join(os.getcwd(), f\"opencv_bootcamp_assets_NB9.zip\")\n",
    "\n",
    "# Download if assest ZIP does not exists. \n",
    "if not os.path.exists(asset_zip_path):\n",
    "    download_and_unzip(URL, asset_zip_path) "
   ]
  },
  {
   "cell_type": "code",
   "execution_count": null,
   "id": "6ac9c081-c9d6-4bb2-a6b8-8b617c85629a",
   "metadata": {},
   "outputs": [],
   "source": [
    "imagefiles = glob.glob(f\"boat{os.sep}*\")\n",
    "imagefiles.sort()\n",
    "\n",
    "\n",
    "images = []\n",
    "for filename in imagefiles:\n",
    "    img = cv2.imread(filename)\n",
    "    img = cv2.cvtColor(img, cv2.COLOR_BGR2RGB)\n",
    "    images.append(img)\n",
    "\n",
    "num_images = len(images)"
   ]
  },
  {
   "cell_type": "code",
   "execution_count": null,
   "id": "b349254d-9192-458d-b5b2-62a2b5d6b716",
   "metadata": {},
   "outputs": [],
   "source": [
    "# Display Images\n",
    "plt.figure(figsize=[30, 10])\n",
    "num_cols = 3\n",
    "num_rows = math.ceil(num_images / num_cols)\n",
    "for i in range(0, num_images):\n",
    "    plt.subplot(num_rows, num_cols, i + 1)\n",
    "    plt.axis(\"off\")\n",
    "    plt.imshow(images[i])"
   ]
  },
  {
   "cell_type": "code",
   "execution_count": null,
   "id": "bc664242-d9d1-43e2-9892-c34a34bfee6c",
   "metadata": {},
   "outputs": [],
   "source": [
    "# Stitch Images\n",
    "stitcher = cv2.Stitcher_create()\n",
    "status, result = stitcher.stitch(images)\n",
    "\n",
    "if status == 0:\n",
    "    plt.figure(figsize=[30, 10])\n",
    "    plt.imshow(result)"
   ]
  }
 ],
 "metadata": {
  "kernelspec": {
   "display_name": "Python 3 (ipykernel)",
   "language": "python",
   "name": "python3"
  },
  "language_info": {
   "codemirror_mode": {
    "name": "ipython",
    "version": 3
   },
   "file_extension": ".py",
   "mimetype": "text/x-python",
   "name": "python",
   "nbconvert_exporter": "python",
   "pygments_lexer": "ipython3",
   "version": "3.12.4"
  }
 },
 "nbformat": 4,
 "nbformat_minor": 5
}
