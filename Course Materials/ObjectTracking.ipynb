{
 "cells": [
  {
   "cell_type": "code",
   "execution_count": null,
   "id": "c8db0cb5-4d08-4f34-b4e3-b45e084d0d58",
   "metadata": {},
   "outputs": [],
   "source": [
    "import os\n",
    "import sys\n",
    "import cv2\n",
    "import numpy as np\n",
    "import matplotlib.pyplot as plt\n",
    "\n",
    "from zipfile import ZipFile\n",
    "from urllib.request import urlretrieve\n",
    "\n",
    "from IPython.display import HTML\n",
    "from matplotlib.animation import FuncAnimation\n",
    "\n",
    "from IPython.display import YouTubeVideo, display, HTML\n",
    "from base64 import b64encode\n"
   ]
  },
  {
   "cell_type": "code",
   "execution_count": null,
   "id": "287b7fb3-05a7-4e56-9b88-70cb6ca804a2",
   "metadata": {},
   "outputs": [],
   "source": [
    "def download_and_unzip(url, save_path):\n",
    "    print(f\"Downloading and extracting assests....\", end=\"\")\n",
    "\n",
    "    # Downloading zip file using urllib package.\n",
    "    urlretrieve(url, save_path)\n",
    "\n",
    "    try:\n",
    "        # Extracting zip file using the zipfile package.\n",
    "        with ZipFile(save_path) as z:\n",
    "            # Extract ZIP file contents in the same directory.\n",
    "            z.extractall(os.path.split(save_path)[0])\n",
    "\n",
    "        print(\"Done\")\n",
    "\n",
    "    except Exception as e:\n",
    "        print(\"\\nInvalid file.\", e)"
   ]
  },
  {
   "cell_type": "code",
   "execution_count": null,
   "id": "cde7ba9d-4e84-4f53-b084-ba10cc130d80",
   "metadata": {},
   "outputs": [],
   "source": [
    "URL = r\"https://www.dropbox.com/s/ld535c8e0vueq6x/opencv_bootcamp_assets_NB11.zip?dl=1\"\n",
    "\n",
    "asset_zip_path = os.path.join(os.getcwd(), f\"opencv_bootcamp_assets_NB11.zip\")\n",
    "\n",
    "# Download if assest ZIP does not exists. \n",
    "if not os.path.exists(asset_zip_path):\n",
    "    download_and_unzip(URL, asset_zip_path) "
   ]
  },
  {
   "cell_type": "code",
   "execution_count": null,
   "id": "9504eb26-097b-41cc-bbe6-ea5d53ccdd0a",
   "metadata": {},
   "outputs": [],
   "source": [
    "video = YouTubeVideo(\"XkJCvtCRdVM\", width=1024, height=640)\n",
    "display(video)"
   ]
  },
  {
   "cell_type": "code",
   "execution_count": null,
   "id": "0d3d68fd-d003-4776-9860-79b69156eb2a",
   "metadata": {},
   "outputs": [],
   "source": [
    "video_input_file_name = \"race_car.mp4\"\n",
    "\n",
    "\n",
    "def drawRectangle(frame, bbox):\n",
    "    p1 = (int(bbox[0]), int(bbox[1]))\n",
    "    p2 = (int(bbox[0] + bbox[2]), int(bbox[1] + bbox[3]))\n",
    "    cv2.rectangle(frame, p1, p2, (255, 0, 0), 2, 1)\n",
    "\n",
    "\n",
    "def displayRectangle(frame, bbox):\n",
    "    plt.figure(figsize=(20, 10))\n",
    "    frameCopy = frame.copy()\n",
    "    drawRectangle(frameCopy, bbox)\n",
    "    frameCopy = cv2.cvtColor(frameCopy, cv2.COLOR_RGB2BGR)\n",
    "    plt.imshow(frameCopy)\n",
    "    plt.axis(\"off\")\n",
    "\n",
    "\n",
    "def drawText(frame, txt, location, color=(50, 170, 50)):\n",
    "    cv2.putText(frame, txt, location, cv2.FONT_HERSHEY_SIMPLEX, 1, color, 3)"
   ]
  },
  {
   "cell_type": "code",
   "execution_count": null,
   "id": "9131c6af-a014-4237-a718-deddea35648b",
   "metadata": {},
   "outputs": [],
   "source": [
    "tracker_types = [\n",
    "    \"BOOSTING\",\n",
    "    \"MIL\",\n",
    "    \"KCF\",\n",
    "    \"CSRT\",\n",
    "    \"TLD\",\n",
    "    \"MEDIANFLOW\",\n",
    "    \"GOTURN\",\n",
    "    \"MOSSE\",\n",
    "]\n",
    "\n",
    "# Change the index to change the tracker type\n",
    "tracker_type = tracker_types[2]\n",
    "\n",
    "if tracker_type == \"BOOSTING\":\n",
    "    tracker = cv2.legacy.TrackerBoosting.create()\n",
    "elif tracker_type == \"MIL\":\n",
    "    tracker = cv2.legacy.TrackerMIL.create()\n",
    "elif tracker_type == \"KCF\":\n",
    "    tracker = cv2.TrackerKCF.create()\n",
    "elif tracker_type == \"CSRT\":\n",
    "    tracker = cv2.TrackerCSRT.create()\n",
    "elif tracker_type == \"TLD\":\n",
    "    tracker = cv2.legacy.TrackerTLD.create()\n",
    "elif tracker_type == \"MEDIANFLOW\":\n",
    "    tracker = cv2.legacy.TrackerMedianFlow.create()\n",
    "elif tracker_type == \"GOTURN\":\n",
    "    tracker = cv2.TrackerGOTURN.create()\n",
    "else:\n",
    "    tracker = cv2.legacy.TrackerMOSSE.create()"
   ]
  },
  {
   "cell_type": "code",
   "execution_count": null,
   "id": "8586fba4-89d0-4824-b657-b8670f978d42",
   "metadata": {},
   "outputs": [],
   "source": [
    "video = cv2.VideoCapture(video_input_file_name)\n",
    "ok, frame = video.read()\n",
    "\n",
    "# Exit if video not opened\n",
    "if not video.isOpened():\n",
    "    print(\"Could not open video\")\n",
    "    sys.exit()\n",
    "else:\n",
    "    width = int(video.get(cv2.CAP_PROP_FRAME_WIDTH))\n",
    "    height = int(video.get(cv2.CAP_PROP_FRAME_HEIGHT))\n",
    "\n",
    "video_output_file_name = \"race_car-\" + tracker_type + \".mp4\"\n",
    "video_out = cv2.VideoWriter(video_output_file_name, cv2.VideoWriter_fourcc(*\"XVID\"), 10, (width, height))\n",
    "\n",
    "video_output_file_name"
   ]
  },
  {
   "cell_type": "code",
   "execution_count": null,
   "id": "99974283-8a7c-4ed8-8b7a-c009d160f952",
   "metadata": {},
   "outputs": [],
   "source": [
    "# Define a bounding box\n",
    "bbox = (1300, 405, 160, 120)\n",
    "# bbox = cv2.selectROI(frame, False)\n",
    "# print(bbox)\n",
    "displayRectangle(frame, bbox)"
   ]
  },
  {
   "cell_type": "code",
   "execution_count": null,
   "id": "6d992c0b-3a3c-4664-aa77-ea4d0063bf32",
   "metadata": {},
   "outputs": [],
   "source": [
    "# Initialize tracker with first frame and bounding box\n",
    "\n",
    "ok = tracker.init(frame, bbox)"
   ]
  },
  {
   "cell_type": "code",
   "execution_count": null,
   "id": "248cac60-273e-4701-abe3-335e85927820",
   "metadata": {},
   "outputs": [],
   "source": [
    "while True:\n",
    "    ok, frame = video.read()\n",
    "\n",
    "    if not ok:\n",
    "        break\n",
    "\n",
    "    # Start timer\n",
    "    timer = cv2.getTickCount()\n",
    "\n",
    "    # Update tracker\n",
    "    ok, bbox = tracker.update(frame)\n",
    "\n",
    "    # Calculate Frames per second (FPS)\n",
    "    fps = cv2.getTickFrequency() / (cv2.getTickCount() - timer)\n",
    "\n",
    "    # Draw bounding box\n",
    "    if ok:\n",
    "        drawRectangle(frame, bbox)\n",
    "    else:\n",
    "        drawText(frame, \"Tracking failure detected\", (80, 140), (0, 0, 255))\n",
    "\n",
    "    # Display Info\n",
    "    drawText(frame, tracker_type + \" Tracker\", (80, 60))\n",
    "    drawText(frame, \"FPS : \" + str(int(fps)), (80, 100))\n",
    "\n",
    "    # Write frame to video\n",
    "    video_out.write(frame)\n",
    "\n",
    "video.release()\n",
    "video_out.release()"
   ]
  },
  {
   "cell_type": "code",
   "execution_count": null,
   "id": "fe861b68-4a2b-4d76-8a3e-ed18e00da97d",
   "metadata": {},
   "outputs": [],
   "source": [
    "# Installing ffmpeg\n",
    "!apt-get -qq install ffmpeg \n",
    "\n",
    "# Change video encoding of mp4 file from XVID to h264 \n",
    "!ffmpeg -y -i {video_output_file_name} -c:v libx264 $\"race_car_track_x264.mp4\"  -hide_banner -loglevel error"
   ]
  },
  {
   "cell_type": "code",
   "execution_count": null,
   "id": "4dfd2378-71d4-40c4-85c9-6ca5957ccf50",
   "metadata": {},
   "outputs": [],
   "source": [
    "mp4 = open(\"/content/race_car_track_x264.mp4\", \"rb\").read()\n",
    "data_url = \"data:video/mp4;base64,\" + b64encode(mp4).decode()\n",
    "\n",
    "HTML(f\"\"\"<video width=1024 controls><source src=\"{data_url}\" type=\"video/mp4\"></video>\"\"\")"
   ]
  },
  {
   "cell_type": "code",
   "execution_count": null,
   "id": "9239cd44-feb9-4307-919a-6195ae885099",
   "metadata": {},
   "outputs": [],
   "source": [
    "# Tracker: KCF\n",
    "video = YouTubeVideo(\"pk3tmdRX4ww\", width=1024, height=640)\n",
    "display(video)"
   ]
  },
  {
   "cell_type": "code",
   "execution_count": null,
   "id": "0c9c335b-edbf-4492-90ce-4afed87bd5c8",
   "metadata": {},
   "outputs": [],
   "source": [
    "# Tracker: CSRT\n",
    "video = YouTubeVideo(\"6gGDf-7ypBE\", width=1024, height=640)\n",
    "display(video)"
   ]
  },
  {
   "cell_type": "code",
   "execution_count": null,
   "id": "9c898976-b649-48b9-ae2a-50495bc363dc",
   "metadata": {},
   "outputs": [],
   "source": [
    "# Tracker: GOTURN\n",
    "video = YouTubeVideo(\"0bnWxc4zMvY\", width=1024, height=640)\n",
    "display(video)"
   ]
  }
 ],
 "metadata": {
  "kernelspec": {
   "display_name": "Python 3 (ipykernel)",
   "language": "python",
   "name": "python3"
  },
  "language_info": {
   "codemirror_mode": {
    "name": "ipython",
    "version": 3
   },
   "file_extension": ".py",
   "mimetype": "text/x-python",
   "name": "python",
   "nbconvert_exporter": "python",
   "pygments_lexer": "ipython3",
   "version": "3.12.4"
  }
 },
 "nbformat": 4,
 "nbformat_minor": 5
}
