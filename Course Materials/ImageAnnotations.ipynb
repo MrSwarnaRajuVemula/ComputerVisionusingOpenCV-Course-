{
 "cells": [
  {
   "cell_type": "code",
   "execution_count": null,
   "id": "8457636e-34f1-4a32-8201-173cee51ae7a",
   "metadata": {},
   "outputs": [],
   "source": [
    "import os\n",
    "import cv2\n",
    "import matplotlib\n",
    "import numpy as np\n",
    "import matplotlib.pyplot as plt\n",
    "\n",
    "from zipfile import ZipFile\n",
    "from urllib.request import urlretrieve"
   ]
  },
  {
   "cell_type": "code",
   "execution_count": null,
   "id": "e7a3bb9d-7af5-4c87-9fb6-0ae5879a4c4a",
   "metadata": {},
   "outputs": [],
   "source": [
    "def download_and_unzip(url, save_path):\n",
    "    print(f\"Downloading and extracting assests....\", end=\"\")\n",
    "\n",
    "    # Downloading zip file using urllib package.\n",
    "    urlretrieve(url, save_path)\n",
    "\n",
    "    try:\n",
    "        # Extracting zip file using the zipfile package.\n",
    "        with ZipFile(save_path) as z:\n",
    "            # Extract ZIP file contents in the same directory.\n",
    "            z.extractall(os.path.split(save_path)[0])\n",
    "\n",
    "        print(\"Done\")\n",
    "\n",
    "    except Exception as e:\n",
    "        print(\"\\nInvalid file.\", e)"
   ]
  },
  {
   "cell_type": "code",
   "execution_count": null,
   "id": "4a0e811d-b455-4add-9ec6-463828144b22",
   "metadata": {},
   "outputs": [],
   "source": [
    "URL = r\"https://www.dropbox.com/s/48hboi1m4crv1tl/opencv_bootcamp_assets_NB3.zip?dl=1\"\n",
    "\n",
    "asset_zip_path = os.path.join(os.getcwd(), f\"opencv_bootcamp_assets_NB3.zip\")\n",
    "\n",
    "# Download if assest ZIP does not exists. \n",
    "if not os.path.exists(asset_zip_path):\n",
    "    download_and_unzip(URL, asset_zip_path)  "
   ]
  },
  {
   "cell_type": "code",
   "execution_count": null,
   "id": "8d05028b-fb34-4425-ac1f-4dbf03ddbeea",
   "metadata": {},
   "outputs": [],
   "source": [
    "image = cv2.imread(\"Apollo_11_Launch.jpg\", cv2.IMREAD_COLOR)\n",
    "\n",
    "# Display the original image\n",
    "plt.imshow(image[:, :, ::-1])"
   ]
  },
  {
   "cell_type": "code",
   "execution_count": null,
   "id": "5842d28c-79ce-4567-b992-a069c2b6bb99",
   "metadata": {},
   "outputs": [],
   "source": [
    "imageLine = image.copy()\n",
    "\n",
    "# The line starts from (200,100) and ends at (400,100)\n",
    "# The color of the line is YELLOW (Recall that OpenCV uses BGR format)\n",
    "# Thickness of line is 5px\n",
    "# Linetype is cv2.LINE_AA\n",
    "\n",
    "cv2.line(imageLine, (200, 100), (400, 100), (0, 255, 255), thickness=5, lineType=cv2.LINE_AA);\n",
    "\n",
    "# Display the image\n",
    "plt.imshow(imageLine[:,:,::-1])"
   ]
  },
  {
   "cell_type": "code",
   "execution_count": null,
   "id": "79011a80-af85-4f5e-8e36-ddd3c5ba89c5",
   "metadata": {},
   "outputs": [],
   "source": [
    "imageCircle = image.copy()\n",
    "\n",
    "cv2.circle(imageCircle, (900,500), 100, (0, 0, 255), thickness=5, lineType=cv2.LINE_AA);\n",
    "\n",
    "# Display the image\n",
    "plt.imshow(imageCircle[:,:,::-1])"
   ]
  },
  {
   "cell_type": "code",
   "execution_count": null,
   "id": "6f45987a-f863-4a97-985c-923bdbd15a61",
   "metadata": {},
   "outputs": [],
   "source": [
    "imageRectangle = image.copy()\n",
    "\n",
    "cv2.rectangle(imageRectangle, (500, 100), (700, 600), (255, 0, 255), thickness=5, lineType=cv2.LINE_8)\n",
    "\n",
    "# Display the image\n",
    "plt.imshow(imageRectangle[:, :, ::-1])"
   ]
  },
  {
   "cell_type": "code",
   "execution_count": null,
   "id": "658b7b66-58d2-4a4b-9fa4-2c71ab63e82e",
   "metadata": {},
   "outputs": [],
   "source": [
    "imageText = image.copy()\n",
    "text = \"Apollo 11 Saturn V Launch, July 16, 1969\"\n",
    "fontScale = 2.3\n",
    "fontFace = cv2.FONT_HERSHEY_PLAIN\n",
    "fontColor = (0, 255, 0)\n",
    "fontThickness = 2\n",
    "\n",
    "cv2.putText(imageText, text, (200, 700), fontFace, fontScale, fontColor, fontThickness, cv2.LINE_AA);\n",
    "\n",
    "# Display the image\n",
    "plt.imshow(imageText[:, :, ::-1])"
   ]
  },
  {
   "cell_type": "code",
   "execution_count": null,
   "id": "a156851a-7bda-4e55-bd06-035e688274d9",
   "metadata": {},
   "outputs": [],
   "source": []
  }
 ],
 "metadata": {
  "kernelspec": {
   "display_name": "Python 3 (ipykernel)",
   "language": "python",
   "name": "python3"
  },
  "language_info": {
   "codemirror_mode": {
    "name": "ipython",
    "version": 3
   },
   "file_extension": ".py",
   "mimetype": "text/x-python",
   "name": "python",
   "nbconvert_exporter": "python",
   "pygments_lexer": "ipython3",
   "version": "3.12.4"
  }
 },
 "nbformat": 4,
 "nbformat_minor": 5
}
