{
 "cells": [
  {
   "cell_type": "code",
   "execution_count": null,
   "id": "fc0b382b-c179-4a1a-99b5-d0fae451bd93",
   "metadata": {},
   "outputs": [],
   "source": [
    "import os\n",
    "import cv2\n",
    "import numpy as np\n",
    "import matplotlib.pyplot as plt\n",
    "\n",
    "from zipfile import ZipFile\n",
    "from urllib.request import urlretrieve"
   ]
  },
  {
   "cell_type": "code",
   "execution_count": null,
   "id": "c022c37f-3de5-4414-9ece-87ab86b905a1",
   "metadata": {},
   "outputs": [],
   "source": [
    "def download_and_unzip(url, save_path):\n",
    "    print(f\"Downloading and extracting assests....\", end=\"\")\n",
    "\n",
    "    # Downloading zip file using urllib package.\n",
    "    urlretrieve(url, save_path)\n",
    "\n",
    "    try:\n",
    "        # Extracting zip file using the zipfile package.\n",
    "        with ZipFile(save_path) as z:\n",
    "            # Extract ZIP file contents in the same directory.\n",
    "            z.extractall(os.path.split(save_path)[0])\n",
    "\n",
    "        print(\"Done\")\n",
    "\n",
    "    except Exception as e:\n",
    "        print(\"\\nInvalid file.\", e)"
   ]
  },
  {
   "cell_type": "code",
   "execution_count": null,
   "id": "bdb565c2-a434-4535-873a-864514f34fde",
   "metadata": {},
   "outputs": [],
   "source": [
    "URL = r\"https://www.dropbox.com/s/qa1hsyxt66pvj02/opencv_bootcamp_assets_NB10.zip?dl=1\"\n",
    "\n",
    "asset_zip_path = os.path.join(os.getcwd(), \"opencv_bootcamp_assets_NB10.zip\")\n",
    "\n",
    "# Download if assest ZIP does not exists.\n",
    "if not os.path.exists(asset_zip_path):\n",
    "    download_and_unzip(URL, asset_zip_path)"
   ]
  },
  {
   "cell_type": "code",
   "execution_count": null,
   "id": "28c747ec-3080-47ac-a816-77c38b4bdf6f",
   "metadata": {},
   "outputs": [],
   "source": [
    "def readImagesAndTimes():\n",
    "    # List of file names\n",
    "    filenames = [\"img_0.033.jpg\", \"img_0.25.jpg\", \"img_2.5.jpg\", \"img_15.jpg\"]\n",
    "\n",
    "    # List of exposure times\n",
    "    times = np.array([1 / 30.0, 0.25, 2.5, 15.0], dtype=np.float32)\n",
    "\n",
    "    # Read images\n",
    "    images = []\n",
    "    for filename in filenames:\n",
    "        im = cv2.imread(filename)\n",
    "        images.append(im)\n",
    "\n",
    "    return images, times"
   ]
  },
  {
   "cell_type": "code",
   "execution_count": null,
   "id": "e715c424-25a9-4d22-8a16-cfa7f06ff0de",
   "metadata": {},
   "outputs": [],
   "source": [
    "# Read images and exposure times\n",
    "images, times = readImagesAndTimes()\n",
    "\n",
    "# Align Images\n",
    "alignMTB = cv2.createAlignMTB()\n",
    "alignMTB.process(images, images)"
   ]
  },
  {
   "cell_type": "code",
   "execution_count": null,
   "id": "e4648f8b-269e-4994-b710-47cb55731c6f",
   "metadata": {},
   "outputs": [],
   "source": [
    "# Find Camera Response Function (CRF)\n",
    "calibrateDebevec = cv2.createCalibrateDebevec()\n",
    "responseDebevec = calibrateDebevec.process(images, times)\n",
    "\n",
    "# Plot CRF\n",
    "x = np.arange(256, dtype=np.uint8)\n",
    "y = np.squeeze(responseDebevec)\n",
    "\n",
    "ax = plt.figure(figsize=(30, 10))\n",
    "plt.title(\"Debevec Inverse Camera Response Function\", fontsize=24)\n",
    "plt.xlabel(\"Measured Pixel Value\", fontsize=22)\n",
    "plt.ylabel(\"Calibrated Intensity\", fontsize=22)\n",
    "plt.xlim([0, 260])\n",
    "plt.grid()\n",
    "plt.plot(x, y[:, 0], \"b\", x, y[:, 1], \"g\", x, y[:, 2], \"r\")"
   ]
  },
  {
   "cell_type": "code",
   "execution_count": null,
   "id": "89313a5f-7461-4cb5-a7f4-352aa4196749",
   "metadata": {},
   "outputs": [],
   "source": [
    "# Merge images into an HDR linear image\n",
    "mergeDebevec = cv2.createMergeDebevec()\n",
    "hdrDebevec = mergeDebevec.process(images, times, responseDebevec)"
   ]
  },
  {
   "cell_type": "code",
   "execution_count": null,
   "id": "88492cc0-05d5-4f68-80f3-8ad900da78f7",
   "metadata": {},
   "outputs": [],
   "source": [
    "# Tonemap using Drago's method to obtain 24-bit color image\n",
    "tonemapDrago = cv2.createTonemapDrago(1.0, 0.7)\n",
    "ldrDrago = tonemapDrago.process(hdrDebevec)\n",
    "ldrDrago = 3 * ldrDrago\n",
    "\n",
    "# Saving image\n",
    "cv2.imwrite(\"ldr-Drago.jpg\", 255*ldrDrago)\n",
    "\n",
    "# Plotting image\n",
    "plt.figure(figsize=(20, 10));plt.imshow(np.clip(ldrDrago, 0, 1)[:,:,::-1]);plt.axis(\"off\");"
   ]
  },
  {
   "cell_type": "code",
   "execution_count": null,
   "id": "fd8d765d-c81d-4b21-a12a-516efdef79b1",
   "metadata": {},
   "outputs": [],
   "source": [
    "# Tonemap using Drago's method to obtain 24-bit color image\n",
    "tonemapDrago = cv2.createTonemapDrago(1.0, 0.7)\n",
    "ldrDrago = tonemapDrago.process(hdrDebevec)\n",
    "ldrDrago = 3 * ldrDrago\n",
    "\n",
    "# Saving image\n",
    "cv2.imwrite(\"ldr-Drago.jpg\", 255*ldrDrago)\n",
    "\n",
    "# Plotting image\n",
    "plt.figure(figsize=(20, 10));plt.imshow(np.clip(ldrDrago, 0, 1)[:,:,::-1]);plt.axis(\"off\");"
   ]
  },
  {
   "cell_type": "code",
   "execution_count": null,
   "id": "54f15532-f1f0-4604-abcc-7874f4566415",
   "metadata": {},
   "outputs": [],
   "source": []
  }
 ],
 "metadata": {
  "kernelspec": {
   "display_name": "Python 3 (ipykernel)",
   "language": "python",
   "name": "python3"
  },
  "language_info": {
   "codemirror_mode": {
    "name": "ipython",
    "version": 3
   },
   "file_extension": ".py",
   "mimetype": "text/x-python",
   "name": "python",
   "nbconvert_exporter": "python",
   "pygments_lexer": "ipython3",
   "version": "3.12.4"
  }
 },
 "nbformat": 4,
 "nbformat_minor": 5
}
