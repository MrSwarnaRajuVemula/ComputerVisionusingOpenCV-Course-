{
 "cells": [
  {
   "cell_type": "code",
   "execution_count": null,
   "id": "f779b549-8a9c-43c0-88a9-cbe11f5fc1b5",
   "metadata": {},
   "outputs": [],
   "source": [
    "# Imports\n",
    "import os\n",
    "import cv2\n",
    "import numpy as np\n",
    "import matplotlib.pyplot as plt\n",
    "\n",
    "from zipfile import ZipFile\n",
    "from urllib.request import urlretrieve"
   ]
  },
  {
   "cell_type": "code",
   "execution_count": null,
   "id": "7f9e5cb1-a3df-4458-b56e-e4f01edc478e",
   "metadata": {},
   "outputs": [],
   "source": [
    "def download_and_unzip(url, save_path):\n",
    "    print(f\"Downloading and extracting assests....\", end=\"\")\n",
    "\n",
    "    # Downloading zip file using urllib package.\n",
    "    urlretrieve(url, save_path)\n",
    "\n",
    "    try:\n",
    "        # Extracting zip file using the zipfile package.\n",
    "        with ZipFile(save_path) as z:\n",
    "            # Extract ZIP file contents in the same directory.\n",
    "            z.extractall(os.path.split(save_path)[0])\n",
    "\n",
    "        print(\"Done\")\n",
    "\n",
    "    except Exception as e:\n",
    "        print(\"\\nInvalid file.\", e)"
   ]
  },
  {
   "cell_type": "code",
   "execution_count": null,
   "id": "d69f4cc5-669b-47ff-8b9b-92676a1b7d49",
   "metadata": {},
   "outputs": [],
   "source": [
    "URL = r\"https://www.dropbox.com/s/zuwnn6rqe0f4zgh/opencv_bootcamp_assets_NB8.zip?dl=1\"\n",
    "\n",
    "asset_zip_path = os.path.join(os.getcwd(), f\"opencv_bootcamp_assets_NB8.zip\")\n",
    "\n",
    "# Download if assest ZIP does not exists. \n",
    "if not os.path.exists(asset_zip_path):\n",
    "    download_and_unzip(URL, asset_zip_path)  "
   ]
  },
  {
   "cell_type": "code",
   "execution_count": null,
   "id": "14670b5f-1b7a-4685-be81-b8d12d28261e",
   "metadata": {},
   "outputs": [],
   "source": [
    "# Read reference image\n",
    "refFilename = \"form.jpg\"\n",
    "print(\"Reading reference image:\", refFilename)\n",
    "im1 = cv2.imread(refFilename, cv2.IMREAD_COLOR)\n",
    "im1 = cv2.cvtColor(im1, cv2.COLOR_BGR2RGB)\n",
    "\n",
    "# Read image to be aligned\n",
    "imFilename = \"scanned-form.jpg\"\n",
    "print(\"Reading image to align:\", imFilename)\n",
    "im2 = cv2.imread(imFilename, cv2.IMREAD_COLOR)\n",
    "im2 = cv2.cvtColor(im2, cv2.COLOR_BGR2RGB)"
   ]
  },
  {
   "cell_type": "code",
   "execution_count": null,
   "id": "d7ee2ce4-a800-470d-9377-6126cf7e8574",
   "metadata": {},
   "outputs": [],
   "source": [
    "# Display Images\n",
    "\n",
    "plt.figure(figsize=[20, 10]); \n",
    "plt.subplot(121); plt.axis('off'); plt.imshow(im1); plt.title(\"Original Form\")\n",
    "plt.subplot(122); plt.axis('off'); plt.imshow(im2); plt.title(\"Scanned Form\")"
   ]
  },
  {
   "cell_type": "code",
   "execution_count": null,
   "id": "9b9198b9-3602-4a2b-b0f7-bf7ca7dc43fe",
   "metadata": {},
   "outputs": [],
   "source": [
    "# Convert images to grayscale\n",
    "im1_gray = cv2.cvtColor(im1, cv2.COLOR_BGR2GRAY)\n",
    "im2_gray = cv2.cvtColor(im2, cv2.COLOR_BGR2GRAY)\n",
    "\n",
    "\n",
    "# Detect ORB features and compute descriptors.\n",
    "MAX_NUM_FEATURES = 500\n",
    "orb = cv2.ORB_create(MAX_NUM_FEATURES)\n",
    "keypoints1, descriptors1 = orb.detectAndCompute(im1_gray, None)\n",
    "keypoints2, descriptors2 = orb.detectAndCompute(im2_gray, None)\n",
    "\n",
    "# Display\n",
    "im1_display = cv2.drawKeypoints(im1, keypoints1, outImage=np.array([]), \n",
    "                                color=(255, 0, 0), flags=cv2.DRAW_MATCHES_FLAGS_DRAW_RICH_KEYPOINTS)\n",
    "\n",
    "im2_display = cv2.drawKeypoints(im2, keypoints2, outImage=np.array([]), \n",
    "                                color=(255, 0, 0), flags=cv2.DRAW_MATCHES_FLAGS_DRAW_RICH_KEYPOINTS)"
   ]
  },
  {
   "cell_type": "code",
   "execution_count": null,
   "id": "81cfeedb-47ef-4499-b635-5e1aeb6d27ba",
   "metadata": {},
   "outputs": [],
   "source": [
    "plt.figure(figsize=[20,10])\n",
    "plt.subplot(121); plt.axis('off'); plt.imshow(im1_display); plt.title(\"Original Form\");\n",
    "plt.subplot(122); plt.axis('off'); plt.imshow(im2_display); plt.title(\"Scanned Form\");"
   ]
  },
  {
   "cell_type": "code",
   "execution_count": null,
   "id": "2dc0da3f-cd0e-4a57-90d8-1bbedd1a32f1",
   "metadata": {},
   "outputs": [],
   "source": [
    "# Match features.\n",
    "matcher = cv2.DescriptorMatcher_create(cv2.DESCRIPTOR_MATCHER_BRUTEFORCE_HAMMING)\n",
    "\n",
    "# Converting to list for sorting as tuples are immutable objects.\n",
    "matches = list(matcher.match(descriptors1, descriptors2, None))\n",
    "\n",
    "# Sort matches by score\n",
    "matches.sort(key=lambda x: x.distance, reverse=False)\n",
    "\n",
    "# Remove not so good matches\n",
    "numGoodMatches = int(len(matches) * 0.1)\n",
    "matches = matches[:numGoodMatches]"
   ]
  },
  {
   "cell_type": "code",
   "execution_count": null,
   "id": "2bbb7141-19e2-45de-9065-e1e1f52e76a1",
   "metadata": {},
   "outputs": [],
   "source": [
    "# Draw top matches\n",
    "im_matches = cv2.drawMatches(im1, keypoints1, im2, keypoints2, matches, None)\n",
    "\n",
    "plt.figure(figsize=[40, 10])\n",
    "plt.imshow(im_matches);plt.axis(\"off\");plt.title(\"Original Form\")"
   ]
  },
  {
   "cell_type": "code",
   "execution_count": null,
   "id": "ef1c946a-9f7e-47f5-b61b-11b971f1a2dd",
   "metadata": {},
   "outputs": [],
   "source": [
    "# Extract location of good matches\n",
    "points1 = np.zeros((len(matches), 2), dtype=np.float32)\n",
    "points2 = np.zeros((len(matches), 2), dtype=np.float32)\n",
    "\n",
    "for i, match in enumerate(matches):\n",
    "    points1[i, :] = keypoints1[match.queryIdx].pt\n",
    "    points2[i, :] = keypoints2[match.trainIdx].pt\n",
    "\n",
    "# Find homography\n",
    "h, mask = cv2.findHomography(points2, points1, cv2.RANSAC)"
   ]
  },
  {
   "cell_type": "code",
   "execution_count": null,
   "id": "00a24735-23b2-4343-9a89-b4797b3f7d37",
   "metadata": {},
   "outputs": [],
   "source": [
    "# Use homography to warp image\n",
    "height, width, channels = im1.shape\n",
    "im2_reg = cv2.warpPerspective(im2, h, (width, height))\n",
    "\n",
    "# Display results\n",
    "plt.figure(figsize=[20, 10])\n",
    "plt.subplot(121);plt.imshow(im1);    plt.axis(\"off\");plt.title(\"Original Form\")\n",
    "plt.subplot(122);plt.imshow(im2_reg);plt.axis(\"off\");plt.title(\"Scanned Form\")"
   ]
  }
 ],
 "metadata": {
  "kernelspec": {
   "display_name": "Python 3 (ipykernel)",
   "language": "python",
   "name": "python3"
  },
  "language_info": {
   "codemirror_mode": {
    "name": "ipython",
    "version": 3
   },
   "file_extension": ".py",
   "mimetype": "text/x-python",
   "name": "python",
   "nbconvert_exporter": "python",
   "pygments_lexer": "ipython3",
   "version": "3.12.4"
  }
 },
 "nbformat": 4,
 "nbformat_minor": 5
}
