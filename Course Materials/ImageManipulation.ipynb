{
 "cells": [
  {
   "cell_type": "code",
   "execution_count": null,
   "id": "359f56f8-1734-41e9-8e2b-c2195f63eb59",
   "metadata": {},
   "outputs": [],
   "source": [
    "import os\n",
    "import cv2\n",
    "import numpy as np\n",
    "import matplotlib.pyplot as plt\n",
    "\n",
    "from zipfile import ZipFile\n",
    "from urllib.request import urlretrieve"
   ]
  },
  {
   "cell_type": "code",
   "execution_count": null,
   "id": "4c42678d-758a-4fad-81ba-1c47dfa2425d",
   "metadata": {},
   "outputs": [],
   "source": [
    "def download_and_unzip(url, save_path):\n",
    "    print(f\"Downloading and extracting assests....\", end=\"\")\n",
    "\n",
    "    # Downloading zip file using urllib package.\n",
    "    urlretrieve(url, save_path)\n",
    "\n",
    "    try:\n",
    "        # Extracting zip file using the zipfile package.\n",
    "        with ZipFile(save_path) as z:\n",
    "            # Extract ZIP file contents in the same directory.\n",
    "            z.extractall(os.path.split(save_path)[0])\n",
    "\n",
    "        print(\"Done\")\n",
    "\n",
    "    except Exception as e:\n",
    "        print(\"\\nInvalid file.\", e)"
   ]
  },
  {
   "cell_type": "code",
   "execution_count": null,
   "id": "b1caa34a-523a-4649-b0f8-cb52bfd7ee8c",
   "metadata": {},
   "outputs": [],
   "source": [
    "URL = r\"https://www.dropbox.com/s/rys6f1vprily2bg/opencv_bootcamp_assets_NB2.zip?dl=1\"\n",
    "\n",
    "asset_zip_path = os.path.join(os.getcwd(), f\"opencv_bootcamp_assets_NB2.zip\")\n",
    "\n",
    "# Download if assest ZIP does not exists. \n",
    "if not os.path.exists(asset_zip_path):\n",
    "    download_and_unzip(URL, asset_zip_path) "
   ]
  },
  {
   "cell_type": "code",
   "execution_count": null,
   "id": "81f7e6eb-b1c4-49dd-a34a-810a88a11b02",
   "metadata": {},
   "outputs": [],
   "source": [
    "# Read image as gray scale.\n",
    "cb_img = cv2.imread(\"checkerboard_18x18.png\", 0)\n",
    "\n",
    "# Set color map to gray scale for proper rendering.\n",
    "plt.imshow(cb_img, cmap=\"gray\")\n",
    "print(cb_img)"
   ]
  },
  {
   "cell_type": "code",
   "execution_count": null,
   "id": "a95f756e-e916-4098-98da-39e477e3f776",
   "metadata": {},
   "outputs": [],
   "source": [
    "# print the first pixel of the first black box\n",
    "print(cb_img[0, 0])\n",
    "# print the first white pixel to the right of the first black box\n",
    "print(cb_img[0, 6])"
   ]
  },
  {
   "cell_type": "code",
   "execution_count": null,
   "id": "93ac1db0-a06c-4c3f-819c-b66ae534d7af",
   "metadata": {},
   "outputs": [],
   "source": [
    "cb_img_copy = cb_img.copy()\n",
    "cb_img_copy[2, 2] = 200\n",
    "cb_img_copy[2, 3] = 200\n",
    "cb_img_copy[3, 2] = 200\n",
    "cb_img_copy[3, 3] = 200\n",
    "\n",
    "# Same as above\n",
    "# cb_img_copy[2:3,2:3] = 200\n",
    "\n",
    "plt.imshow(cb_img_copy, cmap=\"gray\")\n",
    "print(cb_img_copy)"
   ]
  },
  {
   "cell_type": "code",
   "execution_count": null,
   "id": "ae685b9e-b48f-4626-a2e5-91d59af39cce",
   "metadata": {},
   "outputs": [],
   "source": [
    "img_NZ_bgr = cv2.imread(\"New_Zealand_Boat.jpg\", cv2.IMREAD_COLOR)\n",
    "img_NZ_rgb = img_NZ_bgr[:, :, ::-1]\n",
    "\n",
    "plt.imshow(img_NZ_rgb)"
   ]
  },
  {
   "cell_type": "code",
   "execution_count": null,
   "id": "1c93dee5-3919-4907-88a5-1970202db49d",
   "metadata": {},
   "outputs": [],
   "source": [
    "cropped_region = img_NZ_rgb[200:400, 300:600]\n",
    "plt.imshow(cropped_region)"
   ]
  },
  {
   "cell_type": "code",
   "execution_count": null,
   "id": "229abad6-859e-4eac-9b31-e0ada6e22dcc",
   "metadata": {},
   "outputs": [],
   "source": [
    "resized_cropped_region_2x = cv2.resize(cropped_region, None, fx=2, fy=2)\n",
    "plt.imshow(resized_cropped_region_2x)"
   ]
  },
  {
   "cell_type": "code",
   "execution_count": null,
   "id": "c82b9f3d-c9d4-45c1-80b5-72cb5c94ee0e",
   "metadata": {},
   "outputs": [],
   "source": [
    "desired_width = 100\n",
    "desired_height = 200\n",
    "dim = (desired_width, desired_height)\n",
    "\n",
    "# Resize background image to sae size as logo image\n",
    "resized_cropped_region = cv2.resize(cropped_region, dsize=dim, interpolation=cv2.INTER_AREA)\n",
    "plt.imshow(resized_cropped_region)"
   ]
  },
  {
   "cell_type": "code",
   "execution_count": null,
   "id": "7b00693c-1e7f-4a25-87b4-22846b5dd5c5",
   "metadata": {},
   "outputs": [],
   "source": [
    "# Method 2: Using 'dsize'\n",
    "desired_width = 100\n",
    "aspect_ratio = desired_width / cropped_region.shape[1]\n",
    "desired_height = int(cropped_region.shape[0] * aspect_ratio)\n",
    "dim = (desired_width, desired_height)\n",
    "\n",
    "# Resize image\n",
    "resized_cropped_region = cv2.resize(cropped_region, dsize=dim, interpolation=cv2.INTER_AREA)\n",
    "plt.imshow(resized_cropped_region)"
   ]
  },
  {
   "cell_type": "code",
   "execution_count": null,
   "id": "6bc1c810-0e4f-4076-ab8c-0bdc60b87484",
   "metadata": {},
   "outputs": [],
   "source": [
    "# Swap channel order\n",
    "resized_cropped_region_2x = resized_cropped_region_2x[:, :, ::-1]\n",
    "\n",
    "# Save resized image to disk\n",
    "cv2.imwrite(\"resized_cropped_region_2x.png\", resized_cropped_region_2x)\n",
    "\n",
    "# Display the cropped and resized image\n",
    "Image(filename=\"resized_cropped_region_2x.png\")"
   ]
  },
  {
   "cell_type": "code",
   "execution_count": null,
   "id": "3b324512-c6a6-4a09-9913-9ed456bb69af",
   "metadata": {},
   "outputs": [],
   "source": [
    "# Swap channel order\n",
    "cropped_region = cropped_region[:, :, ::-1]\n",
    "\n",
    "# Save cropped 'region'\n",
    "cv2.imwrite(\"cropped_region.png\", cropped_region)\n",
    "\n",
    "# Display the cropped and resized image\n",
    "Image(filename=\"cropped_region.png\")"
   ]
  },
  {
   "cell_type": "code",
   "execution_count": null,
   "id": "131a9910-77c0-428e-a64f-5c725041bc4e",
   "metadata": {},
   "outputs": [],
   "source": [
    "img_NZ_rgb_flipped_horz = cv2.flip(img_NZ_rgb, 1)\n",
    "img_NZ_rgb_flipped_vert = cv2.flip(img_NZ_rgb, 0)\n",
    "img_NZ_rgb_flipped_both = cv2.flip(img_NZ_rgb, -1)\n",
    "\n",
    "# Show the images\n",
    "plt.figure(figsize=(18, 5))\n",
    "plt.subplot(141);plt.imshow(img_NZ_rgb_flipped_horz);plt.title(\"Horizontal Flip\");\n",
    "plt.subplot(142);plt.imshow(img_NZ_rgb_flipped_vert);plt.title(\"Vertical Flip\");\n",
    "plt.subplot(143);plt.imshow(img_NZ_rgb_flipped_both);plt.title(\"Both Flipped\");\n",
    "plt.subplot(144);plt.imshow(img_NZ_rgb);plt.title(\"Original\");"
   ]
  }
 ],
 "metadata": {
  "kernelspec": {
   "display_name": "Python 3 (ipykernel)",
   "language": "python",
   "name": "python3"
  },
  "language_info": {
   "codemirror_mode": {
    "name": "ipython",
    "version": 3
   },
   "file_extension": ".py",
   "mimetype": "text/x-python",
   "name": "python",
   "nbconvert_exporter": "python",
   "pygments_lexer": "ipython3",
   "version": "3.12.4"
  }
 },
 "nbformat": 4,
 "nbformat_minor": 5
}
