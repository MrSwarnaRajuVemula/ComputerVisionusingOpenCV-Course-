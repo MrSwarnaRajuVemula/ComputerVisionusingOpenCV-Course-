{
 "cells": [
  {
   "cell_type": "code",
   "execution_count": null,
   "id": "c9f3692d-77e9-4e61-8888-7c8f8d2158ef",
   "metadata": {},
   "outputs": [],
   "source": [
    "import os\n",
    "import cv2\n",
    "import matplotlib.pyplot as plt\n",
    "\n",
    "from zipfile import ZipFile\n",
    "from urllib.request import urlretrieve"
   ]
  },
  {
   "cell_type": "code",
   "execution_count": null,
   "id": "85913892-e245-4925-8973-a402790464ab",
   "metadata": {},
   "outputs": [],
   "source": [
    "def download_and_unzip(url, save_path):\n",
    "    print(f\"Downloading and extracting assests....\", end=\"\")\n",
    "\n",
    "    # Downloading zip file using urllib package.\n",
    "    urlretrieve(url, save_path)\n",
    "\n",
    "    try:\n",
    "        # Extracting zip file using the zipfile package.\n",
    "        with ZipFile(save_path) as z:\n",
    "            # Extract ZIP file contents in the same directory.\n",
    "            z.extractall(os.path.split(save_path)[0])\n",
    "\n",
    "        print(\"Done\")\n",
    "\n",
    "    except Exception as e:\n",
    "        print(\"\\nInvalid file.\", e)"
   ]
  },
  {
   "cell_type": "code",
   "execution_count": null,
   "id": "adafc3f4-3081-4f6d-b757-d48b64db0ac0",
   "metadata": {},
   "outputs": [],
   "source": [
    "URL = r\"https://www.dropbox.com/s/p8h7ckeo2dn1jtz/opencv_bootcamp_assets_NB6.zip?dl=1\"\n",
    "\n",
    "asset_zip_path = os.path.join(os.getcwd(), f\"opencv_bootcamp_assets_NB6.zip\")\n",
    "\n",
    "# Download if assest ZIP does not exists. \n",
    "if not os.path.exists(asset_zip_path):\n",
    "    download_and_unzip(URL, asset_zip_path) "
   ]
  },
  {
   "cell_type": "code",
   "execution_count": null,
   "id": "c9e053d5-0c90-4d74-8514-a941745f50d3",
   "metadata": {},
   "outputs": [],
   "source": [
    "source = 'race_car.mp4'  # source = 0 for webcam\n",
    "\n",
    "cap = cv2.VideoCapture(source)"
   ]
  },
  {
   "cell_type": "code",
   "execution_count": null,
   "id": "9d3a3388-2503-4d5b-8521-7b8758e56695",
   "metadata": {},
   "outputs": [],
   "source": [
    "if not cap.isOpened():\n",
    "    print(\"Error opening video stream or file\")"
   ]
  },
  {
   "cell_type": "code",
   "execution_count": null,
   "id": "5243051a-dbd4-44a3-8cfe-21e2b4d21b6c",
   "metadata": {},
   "outputs": [],
   "source": [
    "ret, frame = cap.read()"
   ]
  },
  {
   "cell_type": "code",
   "execution_count": null,
   "id": "d9dc271f-90dc-4a2f-aa99-761340dbb860",
   "metadata": {},
   "outputs": [],
   "source": [
    "plt.imshow(frame[..., ::-1])"
   ]
  },
  {
   "cell_type": "code",
   "execution_count": null,
   "id": "92ea4eae-8d89-4a65-8a2e-83e235aa24cd",
   "metadata": {},
   "outputs": [],
   "source": [
    "video = YouTubeVideo(\"RwxVEjv78LQ\", width=700, height=438)\n",
    "display(video)"
   ]
  },
  {
   "cell_type": "code",
   "execution_count": null,
   "id": "a153d0c8-1059-4d66-a3f9-caed3da05d6f",
   "metadata": {},
   "outputs": [],
   "source": [
    "# Default resolutions of the frame are obtained.\n",
    "# Convert the resolutions from float to integer.\n",
    "frame_width = int(cap.get(3))\n",
    "frame_height = int(cap.get(4))\n",
    "\n",
    "# Define the codec and create VideoWriter object.\n",
    "out_avi = cv2.VideoWriter(\"race_car_out.avi\", cv2.VideoWriter_fourcc(\"M\", \"J\", \"P\", \"G\"), 10, (frame_width, frame_height))\n",
    "\n",
    "out_mp4 = cv2.VideoWriter(\"race_car_out.mp4\", cv2.VideoWriter_fourcc(*\"XVID\"), 10, (frame_width, frame_height))"
   ]
  },
  {
   "cell_type": "code",
   "execution_count": null,
   "id": "4180efd5-8998-4cda-b06d-fb576697b2e7",
   "metadata": {},
   "outputs": [],
   "source": [
    "# Read until video is completed\n",
    "while cap.isOpened():\n",
    "    # Capture frame-by-frame\n",
    "    ret, frame = cap.read()\n",
    "\n",
    "    if ret:\n",
    "        # Write the frame to the output files\n",
    "        out_avi.write(frame)\n",
    "        out_mp4.write(frame)\n",
    "\n",
    "    # Break the loop\n",
    "    else:\n",
    "        break"
   ]
  },
  {
   "cell_type": "code",
   "execution_count": null,
   "id": "b16d03af-3b5d-4659-9b6e-bc3570971666",
   "metadata": {},
   "outputs": [],
   "source": [
    "# When everything done, release the VideoCapture and VideoWriter objects\n",
    "cap.release()\n",
    "out_avi.release()\n",
    "out_mp4.release()"
   ]
  },
  {
   "cell_type": "code",
   "execution_count": null,
   "id": "3a24dc42-bcf7-428b-8425-5821935370b0",
   "metadata": {},
   "outputs": [],
   "source": [
    "# Installing ffmpeg\n",
    "\n",
    "!apt-get -qq install ffmpeg "
   ]
  },
  {
   "cell_type": "code",
   "execution_count": null,
   "id": "7f3a0e7d-9ad7-4f93-8fde-fb0ed34b678b",
   "metadata": {},
   "outputs": [],
   "source": [
    "# Change video encoding of mp4 file from XVID to h264 \n",
    "!ffmpeg -y -i \"/content/race_car_out.mp4\" -c:v libx264 \"race_car_out_x264.mp4\"  -hide_banner -loglevel error"
   ]
  },
  {
   "cell_type": "code",
   "execution_count": null,
   "id": "d9a0c813-eddc-4491-ae1f-3a553f400ae7",
   "metadata": {},
   "outputs": [],
   "source": [
    "mp4 = open(\"/content/race_car_out_x264.mp4\", \"rb\").read()\n",
    "data_url = \"data:video/mp4;base64,\" + b64encode(mp4).decode()\n",
    "\n",
    "HTML(f\"\"\"<video width=700 controls><source src=\"{data_url}\" type=\"video/mp4\"></video>\"\"\")"
   ]
  },
  {
   "cell_type": "code",
   "execution_count": null,
   "id": "95a812d0-5545-4ee1-a156-c0c88d604126",
   "metadata": {},
   "outputs": [],
   "source": [
    "video = YouTubeVideo(\"2Gju7YLfkP0\", width=700, height=438)\n",
    "display(video)"
   ]
  }
 ],
 "metadata": {
  "kernelspec": {
   "display_name": "Python 3 (ipykernel)",
   "language": "python",
   "name": "python3"
  },
  "language_info": {
   "codemirror_mode": {
    "name": "ipython",
    "version": 3
   },
   "file_extension": ".py",
   "mimetype": "text/x-python",
   "name": "python",
   "nbconvert_exporter": "python",
   "pygments_lexer": "ipython3",
   "version": "3.12.4"
  }
 },
 "nbformat": 4,
 "nbformat_minor": 5
}
