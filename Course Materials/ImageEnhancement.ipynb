{
 "cells": [
  {
   "cell_type": "code",
   "execution_count": null,
   "id": "800914cb-5321-4b63-8825-c831f07d2c8e",
   "metadata": {},
   "outputs": [],
   "source": [
    "import os\n",
    "import cv2\n",
    "import numpy as np\n",
    "import matplotlib.pyplot as plt\n",
    "\n",
    "from zipfile import ZipFile\n",
    "from urllib.request import urlretrieve"
   ]
  },
  {
   "cell_type": "code",
   "execution_count": null,
   "id": "7c9560fd-9e01-4a44-8f8e-90cdf9ad4a49",
   "metadata": {},
   "outputs": [],
   "source": [
    "def download_and_unzip(url, save_path):\n",
    "    print(f\"Downloading and extracting assests....\", end=\"\")\n",
    "\n",
    "    # Downloading zip file using urllib package.\n",
    "    urlretrieve(url, save_path)\n",
    "    \n",
    "    try:\n",
    "        # Extracting zip file using the zipfile package.\n",
    "        with ZipFile(save_path) as z:\n",
    "            # Extract ZIP file contents in the same directory.\n",
    "            z.extractall(os.path.split(save_path)[0])\n",
    "\n",
    "        print(\"Done\")\n",
    "\n",
    "    except Exception as e:\n",
    "        print(\"\\nInvalid file.\", e)"
   ]
  },
  {
   "cell_type": "code",
   "execution_count": null,
   "id": "c3ae1775-15ba-427b-a2d8-6bb21ee5e869",
   "metadata": {},
   "outputs": [],
   "source": [
    "URL = r\"https://www.dropbox.com/s/0oe92zziik5mwhf/opencv_bootcamp_assets_NB4.zip?dl=1\"\n",
    "\n",
    "asset_zip_path = os.path.join(os.getcwd(), f\"opencv_bootcamp_assets_NB4.zip\")\n",
    "\n",
    "# Download if assest ZIP does not exists. \n",
    "if not os.path.exists(asset_zip_path):\n",
    "    download_and_unzip(URL, asset_zip_path)"
   ]
  },
  {
   "cell_type": "code",
   "execution_count": null,
   "id": "6540a4cc-a560-432b-a114-38ddf1ed0cc9",
   "metadata": {},
   "outputs": [],
   "source": [
    "img_bgr = cv2.imread(\"New_Zealand_Coast.jpg\", cv2.IMREAD_COLOR)\n",
    "img_rgb = cv2.cvtColor(img_bgr, cv2.COLOR_BGR2RGB)\n",
    "\n",
    "# Display 18x18 pixel image.\n",
    "Image(filename=\"New_Zealand_Coast.jpg\")"
   ]
  },
  {
   "cell_type": "code",
   "execution_count": null,
   "id": "d2402a06-b477-416f-a759-2600233f478b",
   "metadata": {},
   "outputs": [],
   "source": [
    "matrix = np.ones(img_rgb.shape, dtype=\"uint8\") * 50\n",
    "\n",
    "img_rgb_brighter = cv2.add(img_rgb, matrix)\n",
    "img_rgb_darker   = cv2.subtract(img_rgb, matrix)\n",
    "\n",
    "\n",
    "# Show the images\n",
    "plt.figure(figsize=[18, 5])\n",
    "plt.subplot(131); plt.imshow(img_rgb_darker);  plt.title(\"Darker\");\n",
    "plt.subplot(132); plt.imshow(img_rgb);         plt.title(\"Original\");\n",
    "plt.subplot(133); plt.imshow(img_rgb_brighter);plt.title(\"Brighter\");"
   ]
  },
  {
   "cell_type": "code",
   "execution_count": null,
   "id": "141f8d64-2da3-48c3-aecf-86c618aea481",
   "metadata": {},
   "outputs": [],
   "source": [
    "matrix1 = np.ones(img_rgb.shape) * 0.8\n",
    "matrix2 = np.ones(img_rgb.shape) * 1.2\n",
    "\n",
    "img_rgb_darker   = np.uint8(cv2.multiply(np.float64(img_rgb), matrix1))\n",
    "img_rgb_brighter = np.uint8(cv2.multiply(np.float64(img_rgb), matrix2))\n",
    "\n",
    "# Show the images\n",
    "plt.figure(figsize=[18,5])\n",
    "plt.subplot(131); plt.imshow(img_rgb_darker);  plt.title(\"Lower Contrast\");\n",
    "plt.subplot(132); plt.imshow(img_rgb);         plt.title(\"Original\");\n",
    "plt.subplot(133); plt.imshow(img_rgb_brighter);plt.title(\"Higher Contrast\");"
   ]
  },
  {
   "cell_type": "code",
   "execution_count": null,
   "id": "c9543e20-d9a7-49f9-99f9-e94a01b401dc",
   "metadata": {},
   "outputs": [],
   "source": [
    "matrix1 = np.ones(img_rgb.shape) * 0.8\n",
    "matrix2 = np.ones(img_rgb.shape) * 1.2\n",
    "\n",
    "img_rgb_lower  = np.uint8(cv2.multiply(np.float64(img_rgb), matrix1))\n",
    "img_rgb_higher = np.uint8(np.clip(cv2.multiply(np.float64(img_rgb), matrix2), 0, 255))\n",
    "\n",
    "# Show the images\n",
    "plt.figure(figsize=[18,5])\n",
    "plt.subplot(131); plt.imshow(img_rgb_lower); plt.title(\"Lower Contrast\");\n",
    "plt.subplot(132); plt.imshow(img_rgb);       plt.title(\"Original\");\n",
    "plt.subplot(133); plt.imshow(img_rgb_higher);plt.title(\"Higher Contrast\");"
   ]
  },
  {
   "cell_type": "code",
   "execution_count": null,
   "id": "7a45914a-b176-4bd2-abe6-e3d0c592f657",
   "metadata": {},
   "outputs": [],
   "source": [
    "img_read = cv2.imread(\"building-windows.jpg\", cv2.IMREAD_GRAYSCALE)\n",
    "retval, img_thresh = cv2.threshold(img_read, 100, 255, cv2.THRESH_BINARY)\n",
    "\n",
    "# Show the images\n",
    "plt.figure(figsize=[18, 5])\n",
    "\n",
    "plt.subplot(121);plt.imshow(img_read, cmap=\"gray\");  plt.title(\"Original\")\n",
    "plt.subplot(122);plt.imshow(img_thresh, cmap=\"gray\");plt.title(\"Thresholded\")\n",
    "\n",
    "print(img_thresh.shape)"
   ]
  },
  {
   "cell_type": "code",
   "execution_count": null,
   "id": "a96046f5-4417-4a60-8869-e22428427a14",
   "metadata": {},
   "outputs": [],
   "source": [
    "# Read the original image\n",
    "img_read = cv2.imread(\"Piano_Sheet_Music.png\", cv2.IMREAD_GRAYSCALE)\n",
    "\n",
    "# Perform global thresholding\n",
    "retval, img_thresh_gbl_1 = cv2.threshold(img_read, 50, 255, cv2.THRESH_BINARY)\n",
    "\n",
    "# Perform global thresholding\n",
    "retval, img_thresh_gbl_2 = cv2.threshold(img_read, 130, 255, cv2.THRESH_BINARY)\n",
    "\n",
    "# Perform adaptive thresholding\n",
    "img_thresh_adp = cv2.adaptiveThreshold(img_read, 255, cv2.ADAPTIVE_THRESH_MEAN_C, cv2.THRESH_BINARY, 11, 7)\n",
    "\n",
    "# Show the images\n",
    "plt.figure(figsize=[18,15])\n",
    "plt.subplot(221); plt.imshow(img_read,        cmap=\"gray\");  plt.title(\"Original\");\n",
    "plt.subplot(222); plt.imshow(img_thresh_gbl_1,cmap=\"gray\");  plt.title(\"Thresholded (global: 50)\");\n",
    "plt.subplot(223); plt.imshow(img_thresh_gbl_2,cmap=\"gray\");  plt.title(\"Thresholded (global: 130)\");\n",
    "plt.subplot(224); plt.imshow(img_thresh_adp,  cmap=\"gray\");  plt.title(\"Thresholded (adaptive)\");"
   ]
  },
  {
   "cell_type": "code",
   "execution_count": null,
   "id": "4ebb40cc-99ce-4157-85ee-b348b9b811ef",
   "metadata": {},
   "outputs": [],
   "source": [
    "img_rec = cv2.imread(\"rectangle.jpg\", cv2.IMREAD_GRAYSCALE)\n",
    "\n",
    "img_cir = cv2.imread(\"circle.jpg\", cv2.IMREAD_GRAYSCALE)\n",
    "\n",
    "plt.figure(figsize=[20, 5])\n",
    "plt.subplot(121);plt.imshow(img_rec, cmap=\"gray\")\n",
    "plt.subplot(122);plt.imshow(img_cir, cmap=\"gray\")\n",
    "print(img_rec.shape)"
   ]
  },
  {
   "cell_type": "code",
   "execution_count": null,
   "id": "e83a6430-bc37-4c4c-9d5a-30d7b624bdea",
   "metadata": {},
   "outputs": [],
   "source": [
    "result = cv2.bitwise_and(img_rec, img_cir, mask=None)\n",
    "plt.imshow(result, cmap=\"gray\")"
   ]
  },
  {
   "cell_type": "code",
   "execution_count": null,
   "id": "0f63234d-39bd-4bd9-9286-5a7d0fa8c4bb",
   "metadata": {},
   "outputs": [],
   "source": [
    "result = cv2.bitwise_or(img_rec, img_cir, mask=None)\n",
    "plt.imshow(result, cmap=\"gray\")"
   ]
  },
  {
   "cell_type": "code",
   "execution_count": null,
   "id": "e526e769-9854-4f30-8aa5-890aea21c64d",
   "metadata": {},
   "outputs": [],
   "source": [
    "result = cv2.bitwise_xor(img_rec, img_cir, mask=None)\n",
    "plt.imshow(result, cmap=\"gray\")"
   ]
  },
  {
   "cell_type": "code",
   "execution_count": null,
   "id": "d2fe825d-fc85-412e-8741-b42e6e1439ab",
   "metadata": {},
   "outputs": [],
   "source": [
    "Image(filename='Logo_Manipulation.png')"
   ]
  },
  {
   "cell_type": "code",
   "execution_count": null,
   "id": "c3fa8ef2-a178-422b-9746-7858f64ed0f9",
   "metadata": {},
   "outputs": [],
   "source": [
    "img_bgr = cv2.imread(\"coca-cola-logo.png\")\n",
    "img_rgb = cv2.cvtColor(img_bgr, cv2.COLOR_BGR2RGB)\n",
    "plt.imshow(img_rgb)\n",
    "\n",
    "print(img_rgb.shape)\n",
    "\n",
    "logo_w = img_rgb.shape[0]\n",
    "logo_h = img_rgb.shape[1]"
   ]
  },
  {
   "cell_type": "code",
   "execution_count": null,
   "id": "3c079578-acfe-412b-8bb1-eee5c2b130fe",
   "metadata": {},
   "outputs": [],
   "source": [
    "# Read in image of color cheackerboad background\n",
    "img_background_bgr = cv2.imread(\"checkerboard_color.png\")\n",
    "img_background_rgb = cv2.cvtColor(img_background_bgr, cv2.COLOR_BGR2RGB)\n",
    "\n",
    "# Set desired width (logo_w) and maintain image aspect ratio\n",
    "aspect_ratio = logo_w / img_background_rgb.shape[1]\n",
    "dim = (logo_w, int(img_background_rgb.shape[0] * aspect_ratio))\n",
    "\n",
    "# Resize background image to sae size as logo image\n",
    "img_background_rgb = cv2.resize(img_background_rgb, dim, interpolation=cv2.INTER_AREA)\n",
    "\n",
    "plt.imshow(img_background_rgb)\n",
    "print(img_background_rgb.shape)"
   ]
  },
  {
   "cell_type": "code",
   "execution_count": null,
   "id": "e39bcf85-45e8-4ac7-9b5c-87299df91746",
   "metadata": {},
   "outputs": [],
   "source": [
    "img_gray = cv2.cvtColor(img_rgb, cv2.COLOR_RGB2GRAY)\n",
    "\n",
    "# Apply global thresholding to creat a binary mask of the logo\n",
    "retval, img_mask = cv2.threshold(img_gray, 127, 255, cv2.THRESH_BINARY)\n",
    "\n",
    "plt.imshow(img_mask, cmap=\"gray\")\n",
    "print(img_mask.shape)"
   ]
  },
  {
   "cell_type": "code",
   "execution_count": null,
   "id": "2c45d0bc-9669-4b31-9319-3bc876de6e3f",
   "metadata": {},
   "outputs": [],
   "source": [
    "# Create an inverse mask\n",
    "img_mask_inv = cv2.bitwise_not(img_mask)\n",
    "plt.imshow(img_mask_inv, cmap=\"gray\")"
   ]
  },
  {
   "cell_type": "code",
   "execution_count": null,
   "id": "817da9f9-26c3-4594-903e-9414c3201d8a",
   "metadata": {},
   "outputs": [],
   "source": [
    "# Create colorful background \"behind\" the logo lettering\n",
    "img_background = cv2.bitwise_and(img_background_rgb, img_background_rgb, mask=img_mask)\n",
    "plt.imshow(img_background)"
   ]
  },
  {
   "cell_type": "code",
   "execution_count": null,
   "id": "e398be35-a8a4-49d8-94d7-164c2ec12406",
   "metadata": {},
   "outputs": [],
   "source": [
    "# Isolate foreground (red from original image) using the inverse mask\n",
    "img_foreground = cv2.bitwise_and(img_rgb, img_rgb, mask=img_mask_inv)\n",
    "plt.imshow(img_foreground)"
   ]
  },
  {
   "cell_type": "code",
   "execution_count": null,
   "id": "c6d158c4-806d-4bd1-a2ed-71e38cc37bc9",
   "metadata": {},
   "outputs": [],
   "source": [
    "# Add the two previous results obtain the final result\n",
    "result = cv2.add(img_background, img_foreground)\n",
    "plt.imshow(result)\n",
    "cv2.imwrite(\"logo_final.png\", result[:, :, ::-1])"
   ]
  }
 ],
 "metadata": {
  "kernelspec": {
   "display_name": "Python 3 (ipykernel)",
   "language": "python",
   "name": "python3"
  },
  "language_info": {
   "codemirror_mode": {
    "name": "ipython",
    "version": 3
   },
   "file_extension": ".py",
   "mimetype": "text/x-python",
   "name": "python",
   "nbconvert_exporter": "python",
   "pygments_lexer": "ipython3",
   "version": "3.12.4"
  }
 },
 "nbformat": 4,
 "nbformat_minor": 5
}
